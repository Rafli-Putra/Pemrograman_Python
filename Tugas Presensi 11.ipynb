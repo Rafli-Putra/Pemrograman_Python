{
  "nbformat": 4,
  "nbformat_minor": 0,
  "metadata": {
    "colab": {
      "name": "Welcome To Colaboratory",
      "provenance": [],
      "collapsed_sections": [],
      "include_colab_link": true
    },
    "kernelspec": {
      "display_name": "Python 3",
      "name": "python3"
    }
  },
  "cells": [
    {
      "cell_type": "markdown",
      "metadata": {
        "id": "view-in-github",
        "colab_type": "text"
      },
      "source": [
        "<a href=\"https://colab.research.google.com/github/Rafli-Putra/Pemrograman_Python/blob/main/Tugas%20Presensi%2011.ipynb\" target=\"_parent\"><img src=\"https://colab.research.google.com/assets/colab-badge.svg\" alt=\"Open In Colab\"/></a>"
      ]
    },
    {
      "cell_type": "code",
      "metadata": {
        "id": "CUf4k8-XlA6k",
        "outputId": "7b66a375-241c-4574-81c6-4cc13219e9a3",
        "colab": {
          "base_uri": "https://localhost:8080/"
        }
      },
      "source": [
        "from google.colab import drive\n",
        "drive.mount('/content/drive')"
      ],
      "execution_count": 173,
      "outputs": [
        {
          "output_type": "stream",
          "text": [
            "Drive already mounted at /content/drive; to attempt to forcibly remount, call drive.mount(\"/content/drive\", force_remount=True).\n"
          ],
          "name": "stdout"
        }
      ]
    },
    {
      "cell_type": "code",
      "metadata": {
        "id": "YUeeWWearkQs",
        "outputId": "6e053310-9f88-49b3-9fd8-3b7e84537988",
        "colab": {
          "base_uri": "https://localhost:8080/"
        }
      },
      "source": [
        "cd /content/drive/MyDrive"
      ],
      "execution_count": 282,
      "outputs": [
        {
          "output_type": "stream",
          "text": [
            "/content/drive/MyDrive\n"
          ],
          "name": "stdout"
        }
      ]
    },
    {
      "cell_type": "code",
      "metadata": {
        "id": "Bc2E15BarpUs",
        "colab": {
          "base_uri": "https://localhost:8080/"
        },
        "outputId": "972bf8f6-53ec-4eaa-ce70-6c7c92f21e21"
      },
      "source": [
        "ls"
      ],
      "execution_count": 283,
      "outputs": [
        {
          "output_type": "stream",
          "text": [
            "'104_Rafli Putra Agripamungkas.pdf'\n",
            "'(1) 1101194115 Registrasi _ Telkom University.pdf'\n",
            " 20200911_182150.jpg\n",
            " 20201002_152948.jpg\n",
            "'CamScanner 11-13-2020 15.52.pdf'\n",
            "'CamScanner 11-27-2020 15.46.pdf'\n",
            " \u001b[0m\u001b[01;34mClassroom\u001b[0m/\n",
            " \u001b[01;34mDaun_ajaib\u001b[0m/\n",
            "'Getting started.pdf'\n",
            "'penurunan rumus.pdf'\n",
            "'Rafli Putra Agripamungkas_1101194115_104.docx'\n",
            "'Rafli Putra Agripamungkas_1101194115_104.pdf'\n",
            "'rangkaian pengganti norton.pdf'\n",
            "'Timeline Rekruitasi (2020).gdoc'\n",
            "\u001b[01;34m'Untitled folder'\u001b[0m/\n",
            "'WhatsApp Image 2020-10-02 at 3.56.08 PM.jpeg'\n"
          ],
          "name": "stdout"
        }
      ]
    },
    {
      "cell_type": "code",
      "metadata": {
        "id": "qvw6KOIHKWqH"
      },
      "source": [
        "# import the necessary packages\n",
        "from keras.models import Sequential\n",
        "from keras.layers.core import Activation\n",
        "from keras.layers.core import Flatten\n",
        "from keras.layers.core import Dense\n",
        "from keras.optimizers import Adam\n",
        "from sklearn.preprocessing import LabelBinarizer\n",
        "from sklearn.model_selection import train_test_split\n",
        "from sklearn.metrics import classification_report\n",
        "from PIL import Image\n",
        "from imutils import paths\n",
        "import numpy as np\n",
        "import os"
      ],
      "execution_count": 333,
      "outputs": []
    },
    {
      "cell_type": "code",
      "metadata": {
        "id": "aewvkHsrtA8T",
        "outputId": "290e9d88-f8da-437d-fa03-993fc4bcb00e",
        "colab": {
          "base_uri": "https://localhost:8080/"
        }
      },
      "source": [
        "# grab all image paths in the input dataset directory, then initialize\n",
        "# our list of images and corresponding class labels\n",
        "print(\"[INFO] loading images...\")\n",
        "imagePaths = paths.list_images(\"Daun_ajaib\")\n",
        "data = []\n",
        "labels = []"
      ],
      "execution_count": 334,
      "outputs": [
        {
          "output_type": "stream",
          "text": [
            "[INFO] loading images...\n"
          ],
          "name": "stdout"
        }
      ]
    },
    {
      "cell_type": "code",
      "metadata": {
        "id": "y0SOhocstLTK"
      },
      "source": [
        "# loop over our input images\n",
        "for imagePath in imagePaths:\n",
        "\t# load the input image from disk, resize it to 64x64 pixels, scale\n",
        "\t# the pixel intensities to the range [0, 1], and then update our\n",
        "\t# images list\n",
        "\timage = Image.open(imagePath)\n",
        "  #preprocessing\n",
        "\timage = np.array(image.resize((128, 128))) / 255.0 #normalisasi\n",
        "\tdata.append(image)\n",
        "\n",
        "\t# extract the class label from the file path and update the\n",
        "\t# labels list\n",
        "\tlabel = imagePath.split(os.path.sep)[-2]\n",
        "\tlabels.append(label)"
      ],
      "execution_count": 335,
      "outputs": []
    },
    {
      "cell_type": "code",
      "metadata": {
        "id": "n7bq81RGOPX3",
        "outputId": "cf9cd84b-41e9-410b-b6f3-c83e6e861957",
        "colab": {
          "base_uri": "https://localhost:8080/"
        }
      },
      "source": [
        "print(labels)"
      ],
      "execution_count": 336,
      "outputs": [
        {
          "output_type": "stream",
          "text": [
            "['GMB_06', 'GMB_06', 'GMB_06', 'GMB_06', 'GMB_06', 'GMB_06', 'GMB_06', 'GMB_06', 'GMB_06', 'GMB_06', 'GMB_06', 'GMB_06', 'GMB_06', 'GMB_06', 'GMB_06', 'GMB_06', 'GMB_06', 'GMB_06', 'GMB_06', 'GMB_06', 'GMB_06', 'GMB_06', 'GMB_06', 'GMB_06', 'GMB_06', 'GMB_06', 'GMB_06', 'GMB_06', 'GMB_06', 'GMB_06', 'GMB_06', 'GMB_06', 'GMB_06', 'GMB_06', 'GMB_06', 'GMB_06', 'GMB_06', 'GMB_06', 'GMB_06', 'GMB_06', 'GMB_06', 'GMB_06', 'GMB_06', 'GMB_06', 'GMB_06', 'GMB_06', 'GMB_06', 'GMB_06', 'GMB_06', 'GMB_06', 'GMB_06', 'GMB_06', 'GMB_06', 'GMB_06', 'GMB_06', 'GMB_06', 'GMB_06', 'GMB_06', 'GMB_06', 'GMB_06', 'GMB_06', 'GMB_06', 'GMB_06', 'GMB_06', 'GMB_06', 'GMB_06', 'GMB_06', 'GMB_06', 'GMB_06', 'GMB_06', 'GMB_06', 'GMB_06', 'GMB_06', 'GMB_06', 'GMB_06', 'GMB_06', 'GMB_06', 'GMB_06', 'GMB_06', 'GMB_06', 'GMB_06', 'GMB_06', 'GMB_06', 'GMB_06', 'GMB_06', 'GMB_06', 'GMB_06', 'GMB_06', 'GMB_06', 'GMB_06', 'GMB_06', 'GMB_06', 'GMB_06', 'GMB_06', 'GMB_06', 'GMB_06', 'GMB_06', 'GMB_06', 'GMB_06', 'GMB_06', 'GMB_06', 'GMB_06', 'GMB_06', 'GMB_06', 'GMB_06', 'GMB_06', 'GMB_06', 'GMB_06', 'GMB_06', 'GMB_06', 'GMB_06', 'GMB_06', 'GMB_06', 'GMB_06', 'GMB_06', 'GMB_06', 'GMB_06', 'GMB_06', 'GMB_06', 'GMB_06', 'GMB_06', 'GMB_05', 'GMB_05', 'GMB_05', 'GMB_05', 'GMB_05', 'GMB_05', 'GMB_05', 'GMB_05', 'GMB_05', 'GMB_05', 'GMB_05', 'GMB_05', 'GMB_05', 'GMB_05', 'GMB_05', 'GMB_05', 'GMB_05', 'GMB_05', 'GMB_05', 'GMB_05', 'GMB_05', 'GMB_05', 'GMB_05', 'GMB_05', 'GMB_05', 'GMB_05', 'GMB_05', 'GMB_05', 'GMB_05', 'GMB_05', 'GMB_05', 'GMB_05', 'GMB_05', 'GMB_05', 'GMB_05', 'GMB_05', 'GMB_05', 'GMB_05', 'GMB_05', 'GMB_05', 'GMB_05', 'GMB_05', 'GMB_05', 'GMB_05', 'GMB_05', 'GMB_05', 'GMB_05', 'GMB_05', 'GMB_05', 'GMB_05', 'GMB_05', 'GMB_05', 'GMB_05', 'GMB_05', 'GMB_05', 'GMB_05', 'GMB_05', 'GMB_05', 'GMB_05', 'GMB_05', 'GMB_05', 'GMB_05', 'GMB_05', 'GMB_05', 'GMB_05', 'GMB_05', 'GMB_05', 'GMB_05', 'GMB_05', 'GMB_05', 'GMB_05', 'GMB_05', 'GMB_05', 'GMB_05', 'GMB_05', 'GMB_05', 'GMB_05', 'GMB_05', 'GMB_05', 'GMB_05', 'GMB_05', 'GMB_05', 'GMB_05', 'GMB_05', 'GMB_05', 'GMB_05', 'GMB_05', 'GMB_05', 'GMB_05', 'GMB_05', 'GMB_05', 'GMB_05', 'GMB_05', 'GMB_05', 'GMB_05', 'GMB_05', 'GMB_05', 'GMB_05', 'GMB_05', 'GMB_05', 'GMB_05', 'GMB_05', 'GMB_05', 'GMB_05', 'GMB_05', 'GMB_05', 'GMB_05', 'GMB_05', 'GMB_05', 'GMB_05', 'GMB_05', 'GMB_05', 'GMB_05', 'GMB_05', 'GMB_05', 'GMB_05', 'GMB_05', 'GMB_05', 'GMB_05', 'GMB_05', 'GMB_05', 'GMB_03', 'GMB_03', 'GMB_03', 'GMB_03', 'GMB_03', 'GMB_03', 'GMB_03', 'GMB_03', 'GMB_03', 'GMB_03', 'GMB_03', 'GMB_03', 'GMB_03', 'GMB_03', 'GMB_03', 'GMB_03', 'GMB_03', 'GMB_03', 'GMB_03', 'GMB_03', 'GMB_03', 'GMB_03', 'GMB_03', 'GMB_03', 'GMB_03', 'GMB_03', 'GMB_03', 'GMB_03', 'GMB_03', 'GMB_03', 'GMB_03', 'GMB_03', 'GMB_03', 'GMB_03', 'GMB_03', 'GMB_03', 'GMB_03', 'GMB_03', 'GMB_03', 'GMB_03', 'GMB_03', 'GMB_03', 'GMB_03', 'GMB_03', 'GMB_03', 'GMB_03', 'GMB_03', 'GMB_03', 'GMB_03', 'GMB_03', 'GMB_03', 'GMB_03', 'GMB_03', 'GMB_03', 'GMB_03', 'GMB_03', 'GMB_03', 'GMB_03', 'GMB_03', 'GMB_03', 'GMB_03', 'GMB_03', 'GMB_03', 'GMB_03', 'GMB_03', 'GMB_03', 'GMB_03', 'GMB_03', 'GMB_03', 'GMB_03', 'GMB_03', 'GMB_03', 'GMB_03', 'GMB_03', 'GMB_03', 'GMB_03', 'GMB_03', 'GMB_03', 'GMB_03', 'GMB_03', 'GMB_03', 'GMB_03', 'GMB_03', 'GMB_03', 'GMB_03', 'GMB_03', 'GMB_03', 'GMB_03', 'GMB_03', 'GMB_03', 'GMB_03', 'GMB_03', 'GMB_03', 'GMB_03', 'GMB_03', 'GMB_03', 'GMB_03', 'GMB_03', 'GMB_03', 'GMB_03', 'GMB_03', 'GMB_03', 'GMB_03', 'GMB_03', 'GMB_03', 'GMB_03', 'GMB_03', 'GMB_03', 'GMB_03', 'GMB_03', 'GMB_03', 'GMB_03', 'GMB_02', 'GMB_02', 'GMB_02', 'GMB_02', 'GMB_02', 'GMB_02', 'GMB_02', 'GMB_02', 'GMB_02', 'GMB_02', 'GMB_02', 'GMB_02', 'GMB_02', 'GMB_02', 'GMB_02', 'GMB_02', 'GMB_02', 'GMB_02', 'GMB_02', 'GMB_02', 'GMB_02', 'GMB_02', 'GMB_02', 'GMB_02', 'GMB_02', 'GMB_02', 'GMB_02', 'GMB_02', 'GMB_02', 'GMB_02', 'GMB_02', 'GMB_02', 'GMB_02', 'GMB_02', 'GMB_02', 'GMB_02', 'GMB_02', 'GMB_02', 'GMB_02', 'GMB_02', 'GMB_02', 'GMB_02', 'GMB_02', 'GMB_02', 'GMB_02', 'GMB_02', 'GMB_02', 'GMB_02', 'GMB_02', 'GMB_02', 'GMB_02', 'GMB_02', 'GMB_02', 'GMB_02', 'GMB_02', 'GMB_02', 'GMB_02', 'GMB_02', 'GMB_02', 'GMB_02', 'GMB_02', 'GMB_02', 'GMB_02', 'GMB_02', 'GMB_02', 'GMB_02', 'GMB_02', 'GMB_02', 'GMB_02', 'GMB_02', 'GMB_02', 'GMB_02', 'GMB_02', 'GMB_02', 'GMB_02', 'GMB_02', 'GMB_02', 'GMB_02', 'GMB_02', 'GMB_02', 'GMB_02', 'GMB_02', 'GMB_02', 'GMB_02', 'GMB_02', 'GMB_02', 'GMB_02', 'GMB_02', 'GMB_02', 'GMB_02', 'GMB_02', 'GMB_02', 'GMB_02', 'GMB_02', 'GMB_02', 'GMB_02', 'GMB_02', 'GMB_02', 'GMB_02', 'GMB_02', 'GMB_02', 'GMB_02', 'GMB_02', 'GMB_02', 'GMB_02', 'GMB_02', 'GMB_02', 'GMB_02', 'GMB_02', 'GMB_02', 'GMB_02', 'GMB_02', 'GMB_02', 'GMB_01', 'GMB_01', 'GMB_01', 'GMB_01', 'GMB_01', 'GMB_01', 'GMB_01', 'GMB_01', 'GMB_01', 'GMB_01', 'GMB_01', 'GMB_01', 'GMB_01', 'GMB_01', 'GMB_01', 'GMB_01', 'GMB_01', 'GMB_01', 'GMB_01', 'GMB_01', 'GMB_01', 'GMB_01', 'GMB_01', 'GMB_01', 'GMB_01', 'GMB_01', 'GMB_01', 'GMB_01', 'GMB_01', 'GMB_01', 'GMB_01', 'GMB_01', 'GMB_01', 'GMB_01', 'GMB_01', 'GMB_01', 'GMB_01', 'GMB_01', 'GMB_01', 'GMB_01', 'GMB_01', 'GMB_01', 'GMB_01', 'GMB_01', 'GMB_01', 'GMB_01', 'GMB_01', 'GMB_01', 'GMB_01', 'GMB_01', 'GMB_01', 'GMB_01', 'GMB_01', 'GMB_01', 'GMB_01', 'GMB_01', 'GMB_01', 'GMB_01', 'GMB_01', 'GMB_01', 'GMB_01', 'GMB_01', 'GMB_01', 'GMB_01', 'GMB_01', 'GMB_01', 'GMB_01', 'GMB_01', 'GMB_01', 'GMB_01', 'GMB_01', 'GMB_01', 'GMB_01', 'GMB_01', 'GMB_01', 'GMB_01', 'GMB_01', 'GMB_01', 'GMB_01', 'GMB_01', 'GMB_01', 'GMB_01', 'GMB_01', 'GMB_01', 'GMB_01', 'GMB_01', 'GMB_01', 'GMB_01', 'GMB_01', 'GMB_01', 'GMB_01', 'GMB_01', 'GMB_01', 'GMB_01', 'GMB_01', 'GMB_01', 'GMB_01', 'GMB_01', 'GMB_01', 'GMB_01', 'GMB_01', 'GMB_01', 'GMB_01', 'GMB_01', 'GMB_01', 'GMB_01', 'GMB_01', 'GMB_01', 'GMB_01', 'GMB_01', 'GMB_01', 'GMB_01', 'GMB_01', 'GMB_01', 'GMB_01', 'GMB_01']\n"
          ],
          "name": "stdout"
        }
      ]
    },
    {
      "cell_type": "code",
      "metadata": {
        "id": "Fy5Jx_8S5UI8"
      },
      "source": [
        "lb = LabelBinarizer()\n",
        "labels = lb.fit_transform(labels)\n",
        "(trainX, testX, trainY, testY) = train_test_split(np.array(data), np.array(labels), test_size=0.25, shuffle=True)"
      ],
      "execution_count": 337,
      "outputs": []
    },
    {
      "cell_type": "code",
      "metadata": {
        "id": "gsYXcV3jI4KS",
        "outputId": "7eed4751-f2d0-400e-b99e-4252d449f81c",
        "colab": {
          "base_uri": "https://localhost:8080/"
        }
      },
      "source": [
        "print(labels)"
      ],
      "execution_count": 338,
      "outputs": [
        {
          "output_type": "stream",
          "text": [
            "[[0 0 0 0 1]\n",
            " [0 0 0 0 1]\n",
            " [0 0 0 0 1]\n",
            " ...\n",
            " [1 0 0 0 0]\n",
            " [1 0 0 0 0]\n",
            " [1 0 0 0 0]]\n"
          ],
          "name": "stdout"
        }
      ]
    },
    {
      "cell_type": "code",
      "metadata": {
        "id": "3JDYqrj_JGtr",
        "outputId": "f06a0c8f-02f2-47ab-e0aa-0da3d237acf5",
        "colab": {
          "base_uri": "https://localhost:8080/"
        }
      },
      "source": [
        "# perform a training and testing split, using 75% of the data for\n",
        "# training and 25% for evaluation\n",
        "(trainX, testX, trainY, testY) = train_test_split(np.array(data),\tnp.array(labels), test_size=0.3, shuffle=True)\n",
        "print(trainX.shape)\n",
        "print(testX.shape)\n"
      ],
      "execution_count": 488,
      "outputs": [
        {
          "output_type": "stream",
          "text": [
            "(408, 128, 128, 3)\n",
            "(175, 128, 128, 3)\n"
          ],
          "name": "stdout"
        }
      ]
    },
    {
      "cell_type": "code",
      "metadata": {
        "id": "cWOs8s8LOrQR"
      },
      "source": [
        "model = Sequential()\n",
        "model.add(Convolution2D(64, 3, 3, activation='relu', input_shape=(128, 128, 3)))\n",
        "model.add(MaxPooling2D(2, 2))\n",
        "model.add(Convolution2D(256, 3, 3, activation='relu'))\n",
        "model.add(MaxPooling2D(2, 2))\n",
        "\n",
        "model.add(Flatten())\n",
        "model.add(Dense(128, activation='relu'))\n",
        "model.add(Dense(64, activation='relu'))\n",
        "model.add(Dense(64, activation='relu'))\n",
        "model.add(Dense(5, activation='softmax'))"
      ],
      "execution_count": 500,
      "outputs": []
    },
    {
      "cell_type": "code",
      "metadata": {
        "id": "65ucKx3ZOu5i"
      },
      "source": [
        "#from keras.models import Sequential\n",
        "#rom keras.layers.core import Flatten\n",
        "#from keras.layers.core import Dense\n",
        "\n",
        "#model = Sequential(\n",
        "    #[\n",
        "        #Flatten(input_shape=(128*128*3,)),\n",
        "        #Dense(64, activation=\"relu\", name=\"layer1\"),\n",
        "        #Dense(32, activation=\"relu\", name=\"layer2\"),\n",
        "        #Dense(16, activation=\"relu\", name=\"layer3\"),\n",
        "        #Dense(3, activation = \"softmax\", name=\"layer4\"),\n",
        "    #]\n",
        "#)#"
      ],
      "execution_count": 460,
      "outputs": []
    },
    {
      "cell_type": "code",
      "metadata": {
        "id": "B6woFKlvOxlT",
        "outputId": "6dda688a-8ddb-44ea-dcab-ea64331861ca",
        "colab": {
          "base_uri": "https://localhost:8080/"
        }
      },
      "source": [
        "model.summary()"
      ],
      "execution_count": 501,
      "outputs": [
        {
          "output_type": "stream",
          "text": [
            "Model: \"sequential_112\"\n",
            "_________________________________________________________________\n",
            "Layer (type)                 Output Shape              Param #   \n",
            "=================================================================\n",
            "conv2d_153 (Conv2D)          (None, 42, 42, 64)        1792      \n",
            "_________________________________________________________________\n",
            "max_pooling2d_98 (MaxPooling (None, 21, 21, 64)        0         \n",
            "_________________________________________________________________\n",
            "conv2d_154 (Conv2D)          (None, 7, 7, 256)         147712    \n",
            "_________________________________________________________________\n",
            "max_pooling2d_99 (MaxPooling (None, 3, 3, 256)         0         \n",
            "_________________________________________________________________\n",
            "flatten_81 (Flatten)         (None, 2304)              0         \n",
            "_________________________________________________________________\n",
            "dense_186 (Dense)            (None, 128)               295040    \n",
            "_________________________________________________________________\n",
            "dense_187 (Dense)            (None, 64)                8256      \n",
            "_________________________________________________________________\n",
            "dense_188 (Dense)            (None, 64)                4160      \n",
            "_________________________________________________________________\n",
            "dense_189 (Dense)            (None, 5)                 325       \n",
            "=================================================================\n",
            "Total params: 457,285\n",
            "Trainable params: 457,285\n",
            "Non-trainable params: 0\n",
            "_________________________________________________________________\n"
          ],
          "name": "stdout"
        }
      ]
    },
    {
      "cell_type": "code",
      "metadata": {
        "id": "j7Ms_LURO5zp",
        "outputId": "978fc2eb-b6fe-438f-ded9-a84f9a15bc9d",
        "colab": {
          "base_uri": "https://localhost:8080/"
        }
      },
      "source": [
        "# train the model using the Adam optimizer\n",
        "print(\"[INFO] training network...\")\n",
        "opt = Adam(lr=1e-3, decay=1e-3 / 50)\n",
        "model1.compile(loss=\"categorical_crossentropy\", optimizer=opt, metrics=[\"accuracy\"])"
      ],
      "execution_count": 503,
      "outputs": [
        {
          "output_type": "stream",
          "text": [
            "[INFO] training network...\n"
          ],
          "name": "stdout"
        }
      ]
    },
    {
      "cell_type": "code",
      "metadata": {
        "id": "YtrF_xzGREHS",
        "outputId": "620fae83-a16d-484d-b4cc-6ea9d1341be2",
        "colab": {
          "base_uri": "https://localhost:8080/"
        }
      },
      "source": [
        "print(\"[INFO] training network ...\")\n",
        "opt = Adam(lr=1e-3, decay=1e-3 / 50)\n",
        "model.compile(loss=\"categorical_crossentropy\", optimizer=opt, metrics=[\"accuracy\"])\n",
        "H = model.fit(trainX, trainY, validation_data=(testX, testY), epochs=100, batch_size=32)"
      ],
      "execution_count": 504,
      "outputs": [
        {
          "output_type": "stream",
          "text": [
            "[INFO] training network ...\n",
            "Epoch 1/100\n",
            "13/13 [==============================] - 1s 105ms/step - loss: 1.6245 - accuracy: 0.1887 - val_loss: 1.6002 - val_accuracy: 0.2114\n",
            "Epoch 2/100\n",
            "13/13 [==============================] - 1s 93ms/step - loss: 1.6018 - accuracy: 0.2426 - val_loss: 1.5905 - val_accuracy: 0.2743\n",
            "Epoch 3/100\n",
            "13/13 [==============================] - 1s 95ms/step - loss: 1.5678 - accuracy: 0.3137 - val_loss: 1.5106 - val_accuracy: 0.3086\n",
            "Epoch 4/100\n",
            "13/13 [==============================] - 1s 97ms/step - loss: 1.4469 - accuracy: 0.3603 - val_loss: 1.3693 - val_accuracy: 0.4571\n",
            "Epoch 5/100\n",
            "13/13 [==============================] - 1s 94ms/step - loss: 1.3370 - accuracy: 0.3775 - val_loss: 1.2848 - val_accuracy: 0.4629\n",
            "Epoch 6/100\n",
            "13/13 [==============================] - 1s 93ms/step - loss: 1.2498 - accuracy: 0.4583 - val_loss: 1.3710 - val_accuracy: 0.4057\n",
            "Epoch 7/100\n",
            "13/13 [==============================] - 1s 94ms/step - loss: 1.1949 - accuracy: 0.4608 - val_loss: 1.1836 - val_accuracy: 0.5029\n",
            "Epoch 8/100\n",
            "13/13 [==============================] - 1s 93ms/step - loss: 1.1510 - accuracy: 0.5049 - val_loss: 1.1630 - val_accuracy: 0.4971\n",
            "Epoch 9/100\n",
            "13/13 [==============================] - 1s 93ms/step - loss: 1.0434 - accuracy: 0.5564 - val_loss: 1.1010 - val_accuracy: 0.5714\n",
            "Epoch 10/100\n",
            "13/13 [==============================] - 1s 93ms/step - loss: 0.9961 - accuracy: 0.5980 - val_loss: 1.0429 - val_accuracy: 0.5886\n",
            "Epoch 11/100\n",
            "13/13 [==============================] - 1s 97ms/step - loss: 0.9542 - accuracy: 0.6152 - val_loss: 1.0816 - val_accuracy: 0.5486\n",
            "Epoch 12/100\n",
            "13/13 [==============================] - 1s 93ms/step - loss: 0.9797 - accuracy: 0.6005 - val_loss: 1.1360 - val_accuracy: 0.5086\n",
            "Epoch 13/100\n",
            "13/13 [==============================] - 1s 94ms/step - loss: 0.9560 - accuracy: 0.6078 - val_loss: 0.9325 - val_accuracy: 0.6229\n",
            "Epoch 14/100\n",
            "13/13 [==============================] - 1s 94ms/step - loss: 0.8249 - accuracy: 0.6740 - val_loss: 0.9155 - val_accuracy: 0.6229\n",
            "Epoch 15/100\n",
            "13/13 [==============================] - 1s 94ms/step - loss: 0.7061 - accuracy: 0.7451 - val_loss: 0.9050 - val_accuracy: 0.6343\n",
            "Epoch 16/100\n",
            "13/13 [==============================] - 1s 94ms/step - loss: 0.6579 - accuracy: 0.7598 - val_loss: 0.7848 - val_accuracy: 0.7143\n",
            "Epoch 17/100\n",
            "13/13 [==============================] - 1s 95ms/step - loss: 0.5629 - accuracy: 0.7672 - val_loss: 0.8087 - val_accuracy: 0.6857\n",
            "Epoch 18/100\n",
            "13/13 [==============================] - 1s 94ms/step - loss: 0.5436 - accuracy: 0.7868 - val_loss: 0.8119 - val_accuracy: 0.7257\n",
            "Epoch 19/100\n",
            "13/13 [==============================] - 1s 95ms/step - loss: 0.5151 - accuracy: 0.7966 - val_loss: 0.7913 - val_accuracy: 0.7143\n",
            "Epoch 20/100\n",
            "13/13 [==============================] - 1s 94ms/step - loss: 0.4544 - accuracy: 0.8284 - val_loss: 0.7397 - val_accuracy: 0.7314\n",
            "Epoch 21/100\n",
            "13/13 [==============================] - 1s 94ms/step - loss: 0.4610 - accuracy: 0.8211 - val_loss: 0.8820 - val_accuracy: 0.6914\n",
            "Epoch 22/100\n",
            "13/13 [==============================] - 1s 94ms/step - loss: 0.4520 - accuracy: 0.8260 - val_loss: 0.7083 - val_accuracy: 0.7600\n",
            "Epoch 23/100\n",
            "13/13 [==============================] - 1s 93ms/step - loss: 0.3675 - accuracy: 0.8652 - val_loss: 0.8223 - val_accuracy: 0.7143\n",
            "Epoch 24/100\n",
            "13/13 [==============================] - 1s 93ms/step - loss: 0.3524 - accuracy: 0.8554 - val_loss: 0.9208 - val_accuracy: 0.6971\n",
            "Epoch 25/100\n",
            "13/13 [==============================] - 1s 94ms/step - loss: 0.2776 - accuracy: 0.8848 - val_loss: 0.7023 - val_accuracy: 0.7829\n",
            "Epoch 26/100\n",
            "13/13 [==============================] - 1s 94ms/step - loss: 0.2117 - accuracy: 0.9387 - val_loss: 0.7697 - val_accuracy: 0.7257\n",
            "Epoch 27/100\n",
            "13/13 [==============================] - 1s 96ms/step - loss: 0.1709 - accuracy: 0.9510 - val_loss: 0.7617 - val_accuracy: 0.7257\n",
            "Epoch 28/100\n",
            "13/13 [==============================] - 1s 94ms/step - loss: 0.1907 - accuracy: 0.9216 - val_loss: 0.7568 - val_accuracy: 0.7600\n",
            "Epoch 29/100\n",
            "13/13 [==============================] - 1s 94ms/step - loss: 0.1311 - accuracy: 0.9583 - val_loss: 0.7566 - val_accuracy: 0.7829\n",
            "Epoch 30/100\n",
            "13/13 [==============================] - 1s 95ms/step - loss: 0.1338 - accuracy: 0.9559 - val_loss: 0.9054 - val_accuracy: 0.7371\n",
            "Epoch 31/100\n",
            "13/13 [==============================] - 1s 94ms/step - loss: 0.1390 - accuracy: 0.9485 - val_loss: 0.8353 - val_accuracy: 0.7371\n",
            "Epoch 32/100\n",
            "13/13 [==============================] - 1s 94ms/step - loss: 0.0971 - accuracy: 0.9755 - val_loss: 0.7751 - val_accuracy: 0.7657\n",
            "Epoch 33/100\n",
            "13/13 [==============================] - 1s 95ms/step - loss: 0.0839 - accuracy: 0.9755 - val_loss: 0.8426 - val_accuracy: 0.7600\n",
            "Epoch 34/100\n",
            "13/13 [==============================] - 1s 93ms/step - loss: 0.0824 - accuracy: 0.9779 - val_loss: 0.8389 - val_accuracy: 0.7714\n",
            "Epoch 35/100\n",
            "13/13 [==============================] - 1s 96ms/step - loss: 0.0664 - accuracy: 0.9902 - val_loss: 0.8575 - val_accuracy: 0.7657\n",
            "Epoch 36/100\n",
            "13/13 [==============================] - 1s 95ms/step - loss: 0.0807 - accuracy: 0.9681 - val_loss: 0.9952 - val_accuracy: 0.7771\n",
            "Epoch 37/100\n",
            "13/13 [==============================] - 1s 95ms/step - loss: 0.0483 - accuracy: 0.9902 - val_loss: 0.9700 - val_accuracy: 0.7600\n",
            "Epoch 38/100\n",
            "13/13 [==============================] - 1s 95ms/step - loss: 0.0455 - accuracy: 0.9877 - val_loss: 0.8903 - val_accuracy: 0.7771\n",
            "Epoch 39/100\n",
            "13/13 [==============================] - 1s 95ms/step - loss: 0.0367 - accuracy: 0.9877 - val_loss: 0.8835 - val_accuracy: 0.7714\n",
            "Epoch 40/100\n",
            "13/13 [==============================] - 1s 94ms/step - loss: 0.0275 - accuracy: 0.9975 - val_loss: 0.9219 - val_accuracy: 0.7714\n",
            "Epoch 41/100\n",
            "13/13 [==============================] - 1s 95ms/step - loss: 0.0415 - accuracy: 0.9853 - val_loss: 0.9068 - val_accuracy: 0.7657\n",
            "Epoch 42/100\n",
            "13/13 [==============================] - 1s 94ms/step - loss: 0.0462 - accuracy: 0.9877 - val_loss: 0.9976 - val_accuracy: 0.7714\n",
            "Epoch 43/100\n",
            "13/13 [==============================] - 1s 95ms/step - loss: 0.0243 - accuracy: 0.9975 - val_loss: 1.0072 - val_accuracy: 0.7829\n",
            "Epoch 44/100\n",
            "13/13 [==============================] - 1s 96ms/step - loss: 0.0152 - accuracy: 0.9975 - val_loss: 0.9680 - val_accuracy: 0.8000\n",
            "Epoch 45/100\n",
            "13/13 [==============================] - 1s 97ms/step - loss: 0.0211 - accuracy: 1.0000 - val_loss: 1.0301 - val_accuracy: 0.7771\n",
            "Epoch 46/100\n",
            "13/13 [==============================] - 1s 96ms/step - loss: 0.0140 - accuracy: 1.0000 - val_loss: 1.0235 - val_accuracy: 0.7543\n",
            "Epoch 47/100\n",
            "13/13 [==============================] - 1s 96ms/step - loss: 0.0180 - accuracy: 0.9951 - val_loss: 1.1039 - val_accuracy: 0.7886\n",
            "Epoch 48/100\n",
            "13/13 [==============================] - 1s 96ms/step - loss: 0.0122 - accuracy: 1.0000 - val_loss: 1.0133 - val_accuracy: 0.7657\n",
            "Epoch 49/100\n",
            "13/13 [==============================] - 1s 94ms/step - loss: 0.0075 - accuracy: 1.0000 - val_loss: 1.0576 - val_accuracy: 0.7714\n",
            "Epoch 50/100\n",
            "13/13 [==============================] - 1s 95ms/step - loss: 0.0071 - accuracy: 1.0000 - val_loss: 1.0650 - val_accuracy: 0.7943\n",
            "Epoch 51/100\n",
            "13/13 [==============================] - 1s 97ms/step - loss: 0.0050 - accuracy: 1.0000 - val_loss: 1.0878 - val_accuracy: 0.7714\n",
            "Epoch 52/100\n",
            "13/13 [==============================] - 1s 96ms/step - loss: 0.0049 - accuracy: 1.0000 - val_loss: 1.0714 - val_accuracy: 0.8000\n",
            "Epoch 53/100\n",
            "13/13 [==============================] - 1s 96ms/step - loss: 0.0044 - accuracy: 1.0000 - val_loss: 1.1054 - val_accuracy: 0.7829\n",
            "Epoch 54/100\n",
            "13/13 [==============================] - 1s 96ms/step - loss: 0.0036 - accuracy: 1.0000 - val_loss: 1.0829 - val_accuracy: 0.7771\n",
            "Epoch 55/100\n",
            "13/13 [==============================] - 1s 95ms/step - loss: 0.0032 - accuracy: 1.0000 - val_loss: 1.1769 - val_accuracy: 0.8000\n",
            "Epoch 56/100\n",
            "13/13 [==============================] - 1s 95ms/step - loss: 0.0032 - accuracy: 1.0000 - val_loss: 1.1032 - val_accuracy: 0.7829\n",
            "Epoch 57/100\n",
            "13/13 [==============================] - 1s 96ms/step - loss: 0.0028 - accuracy: 1.0000 - val_loss: 1.1028 - val_accuracy: 0.7829\n",
            "Epoch 58/100\n",
            "13/13 [==============================] - 1s 97ms/step - loss: 0.0027 - accuracy: 1.0000 - val_loss: 1.1556 - val_accuracy: 0.8000\n",
            "Epoch 59/100\n",
            "13/13 [==============================] - 1s 96ms/step - loss: 0.0023 - accuracy: 1.0000 - val_loss: 1.1595 - val_accuracy: 0.7886\n",
            "Epoch 60/100\n",
            "13/13 [==============================] - 1s 97ms/step - loss: 0.0020 - accuracy: 1.0000 - val_loss: 1.1677 - val_accuracy: 0.8000\n",
            "Epoch 61/100\n",
            "13/13 [==============================] - 1s 96ms/step - loss: 0.0019 - accuracy: 1.0000 - val_loss: 1.1721 - val_accuracy: 0.7943\n",
            "Epoch 62/100\n",
            "13/13 [==============================] - 1s 96ms/step - loss: 0.0017 - accuracy: 1.0000 - val_loss: 1.1769 - val_accuracy: 0.8000\n",
            "Epoch 63/100\n",
            "13/13 [==============================] - 1s 97ms/step - loss: 0.0017 - accuracy: 1.0000 - val_loss: 1.1992 - val_accuracy: 0.7943\n",
            "Epoch 64/100\n",
            "13/13 [==============================] - 1s 96ms/step - loss: 0.0016 - accuracy: 1.0000 - val_loss: 1.1773 - val_accuracy: 0.7943\n",
            "Epoch 65/100\n",
            "13/13 [==============================] - 1s 95ms/step - loss: 0.0015 - accuracy: 1.0000 - val_loss: 1.2045 - val_accuracy: 0.8000\n",
            "Epoch 66/100\n",
            "13/13 [==============================] - 1s 99ms/step - loss: 0.0014 - accuracy: 1.0000 - val_loss: 1.2011 - val_accuracy: 0.8000\n",
            "Epoch 67/100\n",
            "13/13 [==============================] - 1s 95ms/step - loss: 0.0013 - accuracy: 1.0000 - val_loss: 1.2064 - val_accuracy: 0.7943\n",
            "Epoch 68/100\n",
            "13/13 [==============================] - 1s 96ms/step - loss: 0.0013 - accuracy: 1.0000 - val_loss: 1.2383 - val_accuracy: 0.7943\n",
            "Epoch 69/100\n",
            "13/13 [==============================] - 1s 96ms/step - loss: 0.0013 - accuracy: 1.0000 - val_loss: 1.2070 - val_accuracy: 0.7943\n",
            "Epoch 70/100\n",
            "13/13 [==============================] - 1s 95ms/step - loss: 0.0013 - accuracy: 1.0000 - val_loss: 1.2180 - val_accuracy: 0.8000\n",
            "Epoch 71/100\n",
            "13/13 [==============================] - 1s 95ms/step - loss: 0.0011 - accuracy: 1.0000 - val_loss: 1.2466 - val_accuracy: 0.8057\n",
            "Epoch 72/100\n",
            "13/13 [==============================] - 1s 96ms/step - loss: 0.0012 - accuracy: 1.0000 - val_loss: 1.2176 - val_accuracy: 0.7943\n",
            "Epoch 73/100\n",
            "13/13 [==============================] - 1s 96ms/step - loss: 0.0011 - accuracy: 1.0000 - val_loss: 1.2677 - val_accuracy: 0.8000\n",
            "Epoch 74/100\n",
            "13/13 [==============================] - 1s 97ms/step - loss: 9.6348e-04 - accuracy: 1.0000 - val_loss: 1.2384 - val_accuracy: 0.7943\n",
            "Epoch 75/100\n",
            "13/13 [==============================] - 1s 97ms/step - loss: 9.0319e-04 - accuracy: 1.0000 - val_loss: 1.2596 - val_accuracy: 0.8000\n",
            "Epoch 76/100\n",
            "13/13 [==============================] - 1s 96ms/step - loss: 8.4972e-04 - accuracy: 1.0000 - val_loss: 1.2451 - val_accuracy: 0.7943\n",
            "Epoch 77/100\n",
            "13/13 [==============================] - 1s 95ms/step - loss: 8.6395e-04 - accuracy: 1.0000 - val_loss: 1.2770 - val_accuracy: 0.8000\n",
            "Epoch 78/100\n",
            "13/13 [==============================] - 1s 96ms/step - loss: 8.3569e-04 - accuracy: 1.0000 - val_loss: 1.2581 - val_accuracy: 0.8000\n",
            "Epoch 79/100\n",
            "13/13 [==============================] - 1s 96ms/step - loss: 7.8253e-04 - accuracy: 1.0000 - val_loss: 1.2685 - val_accuracy: 0.8000\n",
            "Epoch 80/100\n",
            "13/13 [==============================] - 1s 96ms/step - loss: 7.5895e-04 - accuracy: 1.0000 - val_loss: 1.2696 - val_accuracy: 0.8000\n",
            "Epoch 81/100\n",
            "13/13 [==============================] - 1s 94ms/step - loss: 7.2195e-04 - accuracy: 1.0000 - val_loss: 1.2889 - val_accuracy: 0.8057\n",
            "Epoch 82/100\n",
            "13/13 [==============================] - 1s 97ms/step - loss: 6.9671e-04 - accuracy: 1.0000 - val_loss: 1.2660 - val_accuracy: 0.7943\n",
            "Epoch 83/100\n",
            "13/13 [==============================] - 1s 96ms/step - loss: 6.9547e-04 - accuracy: 1.0000 - val_loss: 1.3011 - val_accuracy: 0.8000\n",
            "Epoch 84/100\n",
            "13/13 [==============================] - 1s 97ms/step - loss: 6.7496e-04 - accuracy: 1.0000 - val_loss: 1.2805 - val_accuracy: 0.8000\n",
            "Epoch 85/100\n",
            "13/13 [==============================] - 1s 96ms/step - loss: 6.2126e-04 - accuracy: 1.0000 - val_loss: 1.2835 - val_accuracy: 0.8000\n",
            "Epoch 86/100\n",
            "13/13 [==============================] - 1s 95ms/step - loss: 6.0401e-04 - accuracy: 1.0000 - val_loss: 1.3045 - val_accuracy: 0.8000\n",
            "Epoch 87/100\n",
            "13/13 [==============================] - 1s 96ms/step - loss: 5.8816e-04 - accuracy: 1.0000 - val_loss: 1.2985 - val_accuracy: 0.8000\n",
            "Epoch 88/100\n",
            "13/13 [==============================] - 1s 105ms/step - loss: 5.8186e-04 - accuracy: 1.0000 - val_loss: 1.2966 - val_accuracy: 0.8000\n",
            "Epoch 89/100\n",
            "13/13 [==============================] - 1s 99ms/step - loss: 5.6651e-04 - accuracy: 1.0000 - val_loss: 1.3165 - val_accuracy: 0.8000\n",
            "Epoch 90/100\n",
            "13/13 [==============================] - 1s 96ms/step - loss: 5.3902e-04 - accuracy: 1.0000 - val_loss: 1.3056 - val_accuracy: 0.8000\n",
            "Epoch 91/100\n",
            "13/13 [==============================] - 1s 96ms/step - loss: 5.1979e-04 - accuracy: 1.0000 - val_loss: 1.3210 - val_accuracy: 0.8057\n",
            "Epoch 92/100\n",
            "13/13 [==============================] - 1s 95ms/step - loss: 4.9870e-04 - accuracy: 1.0000 - val_loss: 1.3150 - val_accuracy: 0.8000\n",
            "Epoch 93/100\n",
            "13/13 [==============================] - 1s 95ms/step - loss: 4.8809e-04 - accuracy: 1.0000 - val_loss: 1.3111 - val_accuracy: 0.8000\n",
            "Epoch 94/100\n",
            "13/13 [==============================] - 1s 96ms/step - loss: 4.7999e-04 - accuracy: 1.0000 - val_loss: 1.3259 - val_accuracy: 0.8000\n",
            "Epoch 95/100\n",
            "13/13 [==============================] - 1s 95ms/step - loss: 4.6152e-04 - accuracy: 1.0000 - val_loss: 1.3301 - val_accuracy: 0.8000\n",
            "Epoch 96/100\n",
            "13/13 [==============================] - 1s 95ms/step - loss: 4.6509e-04 - accuracy: 1.0000 - val_loss: 1.3276 - val_accuracy: 0.8000\n",
            "Epoch 97/100\n",
            "13/13 [==============================] - 1s 97ms/step - loss: 4.6451e-04 - accuracy: 1.0000 - val_loss: 1.3398 - val_accuracy: 0.8000\n",
            "Epoch 98/100\n",
            "13/13 [==============================] - 1s 95ms/step - loss: 4.3802e-04 - accuracy: 1.0000 - val_loss: 1.3381 - val_accuracy: 0.8000\n",
            "Epoch 99/100\n",
            "13/13 [==============================] - 1s 96ms/step - loss: 4.2520e-04 - accuracy: 1.0000 - val_loss: 1.3467 - val_accuracy: 0.8000\n",
            "Epoch 100/100\n",
            "13/13 [==============================] - 1s 98ms/step - loss: 4.0139e-04 - accuracy: 1.0000 - val_loss: 1.3430 - val_accuracy: 0.8000\n"
          ],
          "name": "stdout"
        }
      ]
    },
    {
      "cell_type": "code",
      "metadata": {
        "id": "sSeezVRyAVDh",
        "colab": {
          "base_uri": "https://localhost:8080/",
          "height": 573
        },
        "outputId": "bdd6fd6e-9262-4fb9-ad63-7a3021848bc1"
      },
      "source": [
        "plt.plot(H.history['accuracy'])\n",
        "plt.plot(H.history['val_accuracy'])\n",
        "plt.title('model accuracy')\n",
        "plt.ylabel('accuracy')\n",
        "plt.xlabel('epoch')\n",
        "plt.legend(['train', 'test'], loc='upper left')\n",
        "plt.show()\n",
        "\n",
        "plt.plot(H.history['loss'])\n",
        "plt.plot(H.history['val_loss'])\n",
        "plt.title('model loss')\n",
        "plt.ylabel('loss')\n",
        "plt.xlabel('epoch')\n",
        "plt.legend(['train', 'test'], loc='upper left')\n",
        "plt.show()\n"
      ],
      "execution_count": 505,
      "outputs": [
        {
          "output_type": "display_data",
          "data": {
            "image/png": "[encoded data removed]",
            "text/plain": [
              "<Figure size 432x288 with 1 Axes>"
            ]
          },
          "metadata": {
            "tags": [],
            "needs_background": "light"
          }
        },
        {
          "output_type": "display_data",
          "data": {
            "image/png": "[encoded data removed]",
            "text/plain": [
              "<Figure size 432x288 with 1 Axes>"
            ]
          },
          "metadata": {
            "tags": [],
            "needs_background": "light"
          }
        }
      ]
    },
    {
      "cell_type": "code",
      "metadata": {
        "id": "JRETL6pIAZEO",
        "colab": {
          "base_uri": "https://localhost:8080/"
        },
        "outputId": "e84331c4-bc9c-4bc8-a471-145241fae7da"
      },
      "source": [
        "print(\"[INFO] evaluating network ...\")\n",
        "predictions = model.predict(testX, batch_size=32)\n",
        "print(classification_report(testY.argmax(axis=1), predictions.argmax(axis=1), target_names=lb.classes_))"
      ],
      "execution_count": 506,
      "outputs": [
        {
          "output_type": "stream",
          "text": [
            "[INFO] evaluating network ...\n",
            "              precision    recall  f1-score   support\n",
            "\n",
            "      GMB_01       0.82      0.76      0.79        37\n",
            "      GMB_02       0.84      0.81      0.82        26\n",
            "      GMB_03       0.87      0.84      0.85        31\n",
            "      GMB_05       0.88      0.82      0.85        44\n",
            "      GMB_06       0.64      0.78      0.71        37\n",
            "\n",
            "    accuracy                           0.80       175\n",
            "   macro avg       0.81      0.80      0.80       175\n",
            "weighted avg       0.81      0.80      0.80       175\n",
            "\n"
          ],
          "name": "stdout"
        }
      ]
    }
  ]
}