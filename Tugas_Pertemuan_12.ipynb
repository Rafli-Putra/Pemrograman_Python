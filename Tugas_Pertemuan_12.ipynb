{
  "nbformat": 4,
  "nbformat_minor": 0,
  "metadata": {
    "colab": {
      "name": "Copy of Welcome To Colaboratory",
      "provenance": [],
      "collapsed_sections": [],
      "toc_visible": true,
      "include_colab_link": true
    },
    "kernelspec": {
      "display_name": "Python 3",
      "name": "python3"
    }
  },
  "cells": [
    {
      "cell_type": "markdown",
      "metadata": {
        "id": "view-in-github",
        "colab_type": "text"
      },
      "source": [
        "<a href=\"https://colab.research.google.com/github/Rafli-Putra/Pemrograman_Python/blob/main/Tugas_Pertemuan_12.ipynb\" target=\"_parent\"><img src=\"https://colab.research.google.com/assets/colab-badge.svg\" alt=\"Open In Colab\"/></a>"
      ]
    },
    {
      "cell_type": "code",
      "metadata": {
        "id": "A_dGtqrB44dR"
      },
      "source": [
        "import numpy as np"
      ],
      "execution_count": 1,
      "outputs": []
    },
    {
      "cell_type": "code",
      "metadata": {
        "id": "f5bDJhN748Dg"
      },
      "source": [
        "def C1(p) : \r\n",
        "    if p >= 400 and p <= 1500 :\r\n",
        "        return 69.55\r\n",
        "    elif p > 1500 and p <= 2000 :\r\n",
        "        return 46.3\r\n",
        "\r\n",
        "def C2(p) : \r\n",
        "    if p >= 400 and p <= 1500 :\r\n",
        "        return 26.16\r\n",
        "    elif p > 1500 and p <= 2000 :\r\n",
        "        return 33.9\r\n",
        "\r\n",
        "def a(p, q) : \r\n",
        "    return (((1.1*np.log10(q))-0.7)*p) - ((1.56*np.log10(q))-0.8)\r\n",
        "\r\n",
        "def Cm(p, q) : \r\n",
        "    if p == 1 :\r\n",
        "        return 0\r\n",
        "    elif p == 2 :\r\n",
        "        return (-2*((np.log10(q/28))**2))-54\r\n",
        "    else :\r\n",
        "        return (-4.78*((np.log10(q))**2))+(18.33*np.log10(q))-40.94\r\n",
        "\r\n",
        "def PathLoss(d, f, Type_Cm, hT, hR) :\r\n",
        "    return C1(f)+(C2(f)*np.log10(f))-(13.83*np.log10(hT))-a(hR, f)+((44.9-(6.55*np.log10(hT)))*np.log10(d))+Cm(Type_Cm, f)"
      ],
      "execution_count": 2,
      "outputs": []
    },
    {
      "cell_type": "code",
      "metadata": {
        "colab": {
          "base_uri": "https://localhost:8080/"
        },
        "id": "ALGKzNl848mk",
        "outputId": "f2a005b4-6240-4f5c-e52c-71e3fe2169e6"
      },
      "source": [
        "print(\"Masukan Parameter yang anda inginkan ! \\n\")\r\n",
        "\r\n",
        "d = float(input(\"Jarak Pengirim ke Penerima (km) : \"))\r\n",
        "\r\n",
        "f = float(input(\"Frekuensi (400 MHz - 2000 MHz) : \"))\r\n",
        "while f < 400 or f > 2000 :\r\n",
        "    print(\"Frekuensi Diluar Jangkauan\")\r\n",
        "    f = float(input(\"Frekuensi (400 MHz - 2000 MHz) : \"))\r\n",
        "\r\n",
        "print(\"\"\"Tipe Area :\\n\r\n",
        "1. Urban\\n\r\n",
        "2. Suburban\\n\r\n",
        "3. Open\\n\"\"\")\r\n",
        "Type_Cm = int(input(\"Tipe Area (1/2/3) : \"))\r\n",
        "\r\n",
        "while Type_Cm < 1 or Type_Cm > 3 :\r\n",
        "    print(\"Belum memilih Tipe Area\")\r\n",
        "    print(\"\"\"Tipe Area :\\n\r\n",
        "    1. Urban\\n\r\n",
        "    2. Suburban\\n\r\n",
        "    3. Open\\n\"\"\")\r\n",
        "    Type_Cm = int(input(\"Tipe Area (1/2/3) : \"))\r\n",
        "if Type_Cm == 1 :\r\n",
        "    Tipe_Area = \"Urban\"\r\n",
        "elif Type_Cm == 2 :\r\n",
        "    Tipe_Area = \"Suburban\"\r\n",
        "else :\r\n",
        "    Tipe_Area = \"Open\"\r\n",
        "\r\n",
        "hT = float(input(\"Tinggi Pemancar (30 m - 200 m) : \"))\r\n",
        "while hT < 30 or hT > 200 :\r\n",
        "    print(\"Pengirim Diluar Jangkauan !!\")\r\n",
        "    hT = float(input(\"Tinggi pengirim (30 m - 200 m) : \"))\r\n",
        "\r\n",
        "hR = float(input(\"Tinggi Penerima (1 m - 30 m) : \"))\r\n",
        "while hR < 1 or hR > 30 :\r\n",
        "    print(\"Penerima Diluar Jangkauan !!\")\r\n",
        "    hR = float(input(\"Penerima (1 m - 30 m) : \"))"
      ],
      "execution_count": 3,
      "outputs": [
        {
          "output_type": "stream",
          "text": [
            "Masukan Parameter yang anda inginkan ! \n",
            "\n",
            "Jarak Pengirim ke Penerima (km) : 1234\n",
            "Frekuensi (400 MHz - 2000 MHz) : 1456\n",
            "Tipe Area :\n",
            "\n",
            "1. Urban\n",
            "\n",
            "2. Suburban\n",
            "\n",
            "3. Open\n",
            "\n",
            "Tipe Area (1/2/3) : 2\n",
            "Tinggi Pemancar (30 m - 200 m) : 178\n",
            "Tinggi Penerima (1 m - 30 m) : 27\n"
          ],
          "name": "stdout"
        }
      ]
    },
    {
      "cell_type": "code",
      "metadata": {
        "colab": {
          "base_uri": "https://localhost:8080/"
        },
        "id": "uOVQzcJA5BI8",
        "outputId": "dd3cb0c6-611d-4d24-f1f1-cd3db9f751a8"
      },
      "source": [
        "print(\"Parameter yang anda masukan :\")\r\n",
        "print(\"\"\"1. Jarak Pemancar ke Penerima  : {} km\\n\r\n",
        "2. Frekuensi  : {} MHz\\n\r\n",
        "3. Tipe Area  : Area {}\\n\r\n",
        "4. Tinggi Pemancar  : {} m\\n\r\n",
        "5. Tinggi Penerima  : {} m\\n\"\"\".format(d, f, Tipe_Area, hT, hR))\r\n",
        "print(\"Pathloss yang didapat :\", PathLoss(d, f, Type_Cm, hT, hR), \"dB\")"
      ],
      "execution_count": 4,
      "outputs": [
        {
          "output_type": "stream",
          "text": [
            "Parameter yang anda masukan :\n",
            "1. Jarak Pemancar ke Penerima  : 1234.0 km\n",
            "\n",
            "2. Frekuensi  : 1456.0 MHz\n",
            "\n",
            "3. Tipe Area  : Area Suburban\n",
            "\n",
            "4. Tinggi Pemancar  : 178.0 m\n",
            "\n",
            "5. Tinggi Penerima  : 27.0 m\n",
            "\n",
            "Pathloss yang didapat : 83.60758614449428 dB\n"
          ],
          "name": "stdout"
        }
      ]
    },
    {
      "cell_type": "code",
      "metadata": {
        "colab": {
          "base_uri": "https://localhost:8080/"
        },
        "id": "95R2rey95d_R",
        "outputId": "c6808b2a-d2f6-422e-9590-0621aa5ece0f"
      },
      "source": [
        "print(\"Nama : Rafli Putra Agripamungkas\")\r\n",
        "print(\"Kelas : TT-43-G5\")\r\n",
        "print(\"NIM : 1101194115\")"
      ],
      "execution_count": 5,
      "outputs": [
        {
          "output_type": "stream",
          "text": [
            "Nama : Rafli Putra Agripamungkas\n",
            "Kelas : TT-43-G5\n",
            "NIM : 1101194115\n"
          ],
          "name": "stdout"
        }
      ]
    }
  ]
}